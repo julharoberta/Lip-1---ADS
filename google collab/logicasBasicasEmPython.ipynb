{
  "nbformat": 4,
  "nbformat_minor": 0,
  "metadata": {
    "colab": {
      "provenance": []
    },
    "kernelspec": {
      "name": "python3",
      "display_name": "Python 3"
    },
    "language_info": {
      "name": "python"
    }
  },
  "cells": [
    {
      "cell_type": "markdown",
      "source": [],
      "metadata": {
        "id": "m6C5-GWI7WXo"
      }
    },
    {
      "cell_type": "markdown",
      "source": [
        "Criar uma **lógica** para **calcular** o **preço total** de venda de um produto."
      ],
      "metadata": {
        "id": "NvmQTMiq7aZ-"
      }
    },
    {
      "cell_type": "code",
      "source": [
        "precoTotalDeVenda = 0\n",
        "valorPorPeca = 0\n",
        "quantidade = 0\n",
        "\n",
        "valorPorPeca = float(input(\"Digte o valor unitário da peça: \"))\n",
        "quantidade = int(input(\"Digite a quantidade de produtos: \"))\n",
        "precoTotalDeVenda = valorPorPeca*quantidade\n",
        "\n",
        "print(\"O valor total arrecadado foi:\" ,precoTotalDeVenda)"
      ],
      "metadata": {
        "colab": {
          "base_uri": "https://localhost:8080/"
        },
        "id": "QPZdbj_m7hBm",
        "outputId": "14f8920f-22dd-41f8-93b2-62a72374a3ea"
      },
      "execution_count": 4,
      "outputs": [
        {
          "output_type": "stream",
          "name": "stdout",
          "text": [
            "Digte o valor unitário da peça: 1.3\n",
            "Digite a quantidade de produtos: 10\n",
            "O valor total arrecadado foi: 13.0\n"
          ]
        }
      ]
    }
  ]
}